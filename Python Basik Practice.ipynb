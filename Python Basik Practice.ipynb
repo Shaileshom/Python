{
 "cells": [
  {
   "cell_type": "code",
   "execution_count": 2,
   "metadata": {},
   "outputs": [
    {
     "name": "stdout",
     "output_type": "stream",
     "text": [
      "Twinkle, twinkle, little star, \n",
      "\tHow i wonder what you are!, \n",
      "\t\tup above the world so high, \n",
      "\t\tlike a diomond in the sky, \n",
      "\tTwinkle, twinkle little star, \n",
      "how i wonder what you are\n"
     ]
    }
   ],
   "source": [
    "# (1. Write a Python program to print the following string in a specific format (see the output). Go to the editor\n",
    "#Sample String : \"Twinkle, twinkle, little star, How I wonder what you are! Up above the world so high, Like a diamond in the sky. Twinkle, twinkle, little star, How I wonder what you are\" Output :\n",
    "#\n",
    "#Twinkle, twinkle, little star,\n",
    "#\tHow I wonder what you are! \n",
    "#\t\tUp above the world so high,   \t\t\n",
    "#\t\tLike a diamond in the sky. \n",
    "#Twinkle, twinkle, little star, \n",
    "#\tHow I wonder what you are\n",
    "\n",
    "print(\"Twinkle, twinkle, little star, \\n\\tHow i wonder what you are!, \\n\\t\\tup above the world so high, \\n\\t\\tlike a diomond in the sky, \\n\\tTwinkle, twinkle little star, \\nhow i wonder what you are\")\n",
    "    \n"
   ]
  },
  {
   "cell_type": "code",
   "execution_count": 13,
   "metadata": {},
   "outputs": [
    {
     "name": "stdout",
     "output_type": "stream",
     "text": [
      "3.7.1 (default, Dec 10 2018, 22:54:23) [MSC v.1915 64 bit (AMD64)]\n",
      "sys.version_info(major=3, minor=7, micro=1, releaselevel='final', serial=0)\n"
     ]
    }
   ],
   "source": [
    "# 2. Write a Python program to get the Python version you are using\n",
    "\n",
    "import sys\n",
    "print(sys.version)\n",
    "print(sys.version_info)"
   ]
  },
  {
   "cell_type": "code",
   "execution_count": 45,
   "metadata": {},
   "outputs": [
    {
     "name": "stdout",
     "output_type": "stream",
     "text": [
      "1595748926.140367\n",
      "Sun Jul 26 13:05:26 2020\n"
     ]
    }
   ],
   "source": [
    "# 3. Write a Python program to display the current date and time.\n",
    "\n",
    "from time import time, ctime, localtime         # imported time, ctime, and localtime from Time Module\n",
    "\n",
    "epoch=time()                                # this will give the time from 1st january 2020, 00:00:00 to till now in seconds. this is called the epoch time.\n",
    "print(epoch)\n",
    "\n",
    "et=ctime(epoch)                             # pass epoch(in second) into the ctime function, it will give et(epoch time) date and time format(string). however it is not current date and time. because of epoch start from 1st january of current year 00:00:00 thats way the epoch time and current time looks like same.\n",
    "print(et)\n",
    "ct=ctime()                           # to get current date and time, do not pass epoch into ctime."
   ]
  },
  {
   "cell_type": "code",
   "execution_count": 46,
   "metadata": {},
   "outputs": [
    {
     "name": "stdout",
     "output_type": "stream",
     "text": [
      "time.struct_time(tm_year=2020, tm_mon=7, tm_mday=26, tm_hour=13, tm_min=23, tm_sec=3, tm_wday=6, tm_yday=208, tm_isdst=0)\n"
     ]
    }
   ],
   "source": [
    "stobj=localtime()\n",
    "print(stobj)"
   ]
  },
  {
   "cell_type": "code",
   "execution_count": 48,
   "metadata": {},
   "outputs": [
    {
     "name": "stdout",
     "output_type": "stream",
     "text": [
      "26/7/2020  13:23:3\n"
     ]
    }
   ],
   "source": [
    "print(stobj.tm_mday, end='/')\n",
    "print(stobj.tm_mon, end='/')\n",
    "print(stobj.tm_year, end='  ')\n",
    "print(stobj.tm_hour, end=':')\n",
    "print(stobj.tm_min, end=':')\n",
    "print(stobj.tm_sec)"
   ]
  },
  {
   "cell_type": "code",
   "execution_count": 59,
   "metadata": {},
   "outputs": [
    {
     "name": "stdout",
     "output_type": "stream",
     "text": [
      "2020-07-26 14:58:03.731618\n",
      "26\n"
     ]
    }
   ],
   "source": [
    "# second method using timedate module\n",
    "\n",
    "from datetime import datetime\n",
    "\n",
    "sh=datetime.now()\n",
    "\n",
    "print(sh)\n",
    "print(sh.day)"
   ]
  },
  {
   "cell_type": "code",
   "execution_count": 32,
   "metadata": {},
   "outputs": [
    {
     "name": "stdout",
     "output_type": "stream",
     "text": [
      "enter radius : 10\n",
      "Area = 314.1592653589793\n"
     ]
    }
   ],
   "source": [
    "# 4. Write a Python program which accepts the radius of a circle from the user and compute the area.\n",
    "\n",
    "from math import pi\n",
    "R= float(input('enter radius : '))\n",
    "\n",
    "A= pi*R**2\n",
    "\n",
    "print('Area', '=', A)\n"
   ]
  },
  {
   "cell_type": "code",
   "execution_count": 34,
   "metadata": {},
   "outputs": [
    {
     "name": "stdout",
     "output_type": "stream",
     "text": [
      "enter your first first: shailesh\n",
      "enter your last name: singh\n",
      "singh   shailesh\n"
     ]
    }
   ],
   "source": [
    "# 5. Write a Python program which accepts the user's first and last name and print them in reverse order with a space between them\n",
    "\n",
    "A=input(\"enter your first first: \")\n",
    "B=input(\"enter your last name: \")\n",
    "\n",
    "print(B,\" \", A)\n",
    "\n"
   ]
  },
  {
   "cell_type": "code",
   "execution_count": null,
   "metadata": {},
   "outputs": [],
   "source": [
    "#  6. Write a Python program which accepts a sequence of comma-separated numbers from user and generate a list and a tuple with those numbers.\n",
    "# Sample data : 3, 5, 7, 23\n",
    "#Output :\n",
    "#List : ['3', ' 5', ' 7', ' 23']\n",
    "#Tuple : ('3', ' 5', ' 7', ' 23')"
   ]
  },
  {
   "cell_type": "code",
   "execution_count": null,
   "metadata": {},
   "outputs": [],
   "source": []
  },
  {
   "cell_type": "code",
   "execution_count": null,
   "metadata": {},
   "outputs": [],
   "source": []
  },
  {
   "cell_type": "code",
   "execution_count": null,
   "metadata": {},
   "outputs": [],
   "source": []
  },
  {
   "cell_type": "code",
   "execution_count": null,
   "metadata": {},
   "outputs": [],
   "source": []
  },
  {
   "cell_type": "code",
   "execution_count": null,
   "metadata": {},
   "outputs": [],
   "source": []
  },
  {
   "cell_type": "code",
   "execution_count": null,
   "metadata": {},
   "outputs": [],
   "source": []
  },
  {
   "cell_type": "code",
   "execution_count": null,
   "metadata": {},
   "outputs": [],
   "source": []
  },
  {
   "cell_type": "code",
   "execution_count": null,
   "metadata": {},
   "outputs": [],
   "source": []
  },
  {
   "cell_type": "code",
   "execution_count": null,
   "metadata": {},
   "outputs": [],
   "source": []
  },
  {
   "cell_type": "code",
   "execution_count": null,
   "metadata": {},
   "outputs": [],
   "source": []
  }
 ],
 "metadata": {
  "kernelspec": {
   "display_name": "Python 3",
   "language": "python",
   "name": "python3"
  },
  "language_info": {
   "codemirror_mode": {
    "name": "ipython",
    "version": 3
   },
   "file_extension": ".py",
   "mimetype": "text/x-python",
   "name": "python",
   "nbconvert_exporter": "python",
   "pygments_lexer": "ipython3",
   "version": "3.7.1"
  }
 },
 "nbformat": 4,
 "nbformat_minor": 2
}
